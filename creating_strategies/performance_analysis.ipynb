{
 "cells": [
  {
   "cell_type": "markdown",
   "metadata": {},
   "source": [
    "# Implementing Trading with Machine Learning Regression - Part 4"
   ]
  },
  {
   "cell_type": "markdown",
   "metadata": {},
   "source": [
    "In this notebook, we will use signals and compute trade details and strategy analytics\n",
    "\n",
    "The key steps for this notebook are:\n",
    "1. Import the data\n",
    "2. Analyze the Performance\n",
    "3. Trade Details and Strategy Analytics\n",
    "4. Visualise the Entry and Exit\n",
    "5. Strategy Analysis"
   ]
  },
  {
   "cell_type": "code",
   "execution_count": 1,
   "metadata": {},
   "outputs": [],
   "source": [
    "## Import the libraries\n",
    "import numpy as np \n",
    "import pandas as pd \n",
    "\n",
    "# For Plotting\n",
    "import matplotlib.pyplot as plt \n",
    "%matplotlib inline\n",
    "plt.style.use('seaborn-darkgrid')\n",
    "\n",
    "# To ignore unwanted warnings\n",
    "import warnings\n",
    "warnings.filterwarnings(\"ignore\")"
   ]
  },
  {
   "cell_type": "markdown",
   "metadata": {},
   "source": [
    "### Import Data\n",
    "We will import the file `regression_strategy_data.csv`. This file has predicted  high, low, signals, gold ETF returns and strategy returns."
   ]
  },
  {
   "cell_type": "code",
   "execution_count": 2,
   "metadata": {},
   "outputs": [
    {
     "data": {
      "text/html": [
       "<div>\n",
       "<style scoped>\n",
       "    .dataframe tbody tr th:only-of-type {\n",
       "        vertical-align: middle;\n",
       "    }\n",
       "\n",
       "    .dataframe tbody tr th {\n",
       "        vertical-align: top;\n",
       "    }\n",
       "\n",
       "    .dataframe thead th {\n",
       "        text-align: right;\n",
       "    }\n",
       "</style>\n",
       "<table border=\"1\" class=\"dataframe\">\n",
       "  <thead>\n",
       "    <tr style=\"text-align: right;\">\n",
       "      <th></th>\n",
       "      <th>Close</th>\n",
       "      <th>High</th>\n",
       "      <th>P_H</th>\n",
       "      <th>Low</th>\n",
       "      <th>P_L</th>\n",
       "      <th>Signal</th>\n",
       "      <th>gld_returns</th>\n",
       "      <th>strategy_returns</th>\n",
       "    </tr>\n",
       "    <tr>\n",
       "      <th>Date</th>\n",
       "      <th></th>\n",
       "      <th></th>\n",
       "      <th></th>\n",
       "      <th></th>\n",
       "      <th></th>\n",
       "      <th></th>\n",
       "      <th></th>\n",
       "      <th></th>\n",
       "    </tr>\n",
       "  </thead>\n",
       "  <tbody>\n",
       "    <tr>\n",
       "      <th>2017-08-10</th>\n",
       "      <td>122.209999</td>\n",
       "      <td>122.440002</td>\n",
       "      <td>122.581708</td>\n",
       "      <td>122.029999</td>\n",
       "      <td>121.514771</td>\n",
       "      <td>0</td>\n",
       "      <td>NaN</td>\n",
       "      <td>NaN</td>\n",
       "    </tr>\n",
       "    <tr>\n",
       "      <th>2017-08-11</th>\n",
       "      <td>122.790001</td>\n",
       "      <td>122.830002</td>\n",
       "      <td>122.747055</td>\n",
       "      <td>122.029999</td>\n",
       "      <td>121.670863</td>\n",
       "      <td>-1</td>\n",
       "      <td>0.004746</td>\n",
       "      <td>0.000000</td>\n",
       "    </tr>\n",
       "    <tr>\n",
       "      <th>2017-08-14</th>\n",
       "      <td>121.919998</td>\n",
       "      <td>122.239998</td>\n",
       "      <td>122.504406</td>\n",
       "      <td>121.680000</td>\n",
       "      <td>121.439645</td>\n",
       "      <td>0</td>\n",
       "      <td>-0.007085</td>\n",
       "      <td>0.007085</td>\n",
       "    </tr>\n",
       "    <tr>\n",
       "      <th>2017-08-15</th>\n",
       "      <td>120.980003</td>\n",
       "      <td>121.230003</td>\n",
       "      <td>121.153842</td>\n",
       "      <td>120.580002</td>\n",
       "      <td>120.091055</td>\n",
       "      <td>-1</td>\n",
       "      <td>-0.007710</td>\n",
       "      <td>-0.000000</td>\n",
       "    </tr>\n",
       "    <tr>\n",
       "      <th>2017-08-16</th>\n",
       "      <td>121.870003</td>\n",
       "      <td>122.059998</td>\n",
       "      <td>121.240462</td>\n",
       "      <td>120.660004</td>\n",
       "      <td>120.164585</td>\n",
       "      <td>-1</td>\n",
       "      <td>0.007357</td>\n",
       "      <td>-0.007357</td>\n",
       "    </tr>\n",
       "  </tbody>\n",
       "</table>\n",
       "</div>"
      ],
      "text/plain": [
       "                 Close        High         P_H         Low         P_L  \\\n",
       "Date                                                                     \n",
       "2017-08-10  122.209999  122.440002  122.581708  122.029999  121.514771   \n",
       "2017-08-11  122.790001  122.830002  122.747055  122.029999  121.670863   \n",
       "2017-08-14  121.919998  122.239998  122.504406  121.680000  121.439645   \n",
       "2017-08-15  120.980003  121.230003  121.153842  120.580002  120.091055   \n",
       "2017-08-16  121.870003  122.059998  121.240462  120.660004  120.164585   \n",
       "\n",
       "            Signal  gld_returns  strategy_returns  \n",
       "Date                                               \n",
       "2017-08-10       0          NaN               NaN  \n",
       "2017-08-11      -1     0.004746          0.000000  \n",
       "2017-08-14       0    -0.007085          0.007085  \n",
       "2017-08-15      -1    -0.007710         -0.000000  \n",
       "2017-08-16      -1     0.007357         -0.007357  "
      ]
     },
     "execution_count": 2,
     "metadata": {},
     "output_type": "execute_result"
    }
   ],
   "source": [
    "strategy_data = pd.read_csv('data/strategy_data.csv', parse_dates=['Date'], index_col='Date')\n",
    "strategy_data.head()"
   ]
  },
  {
   "cell_type": "markdown",
   "metadata": {},
   "source": [
    "### Analyze the performannce\n",
    "\n",
    "First, we will use the Sharpe ratio to analyze the performance. Later in this notebook, we will examine our strategy in detail.\n",
    "\n",
    "#### Sharpe Ratio\n",
    "Sharpe ratio is a measure for calculating risk-adjusted return. It is the ratio of the excess return (over risk-free rate) per unit of volatility or standard deviation. The formula for Sharpe Ratio is given by,\n",
    "\n",
    "`Sharpe ratio = (sqrt(N) x mean(strategy returns - Rf)) / (std dev (Strategy returns - Rf))`\n",
    "\n",
    "where:\n",
    "- N is the number of trading days in a year\n",
    "- Rf is the risk-free rate\n",
    "- Std dev is standard deviation"
   ]
  },
  {
   "cell_type": "code",
   "execution_count": 5,
   "metadata": {},
   "outputs": [
    {
     "name": "stdout",
     "output_type": "stream",
     "text": [
      "Sharpe -  0.1951213438453711\n"
     ]
    }
   ],
   "source": [
    "# The below function returns the Sharpe ratio for the excess returns\n",
    "def annualized_sharpe_ratio(returns, N=252):\n",
    "    return np.sqrt(N) * returns.mean() / returns.std()\n",
    "\n",
    "# Calculate the excess daily return assuming an annual risk free rate of return of 5%\n",
    "excess_daily_strategy_return = strategy_data['strategy_returns'] - 0.05/252\n",
    "\n",
    "# Calculate the annualized sharpe ratio\n",
    "sharpe = annualized_sharpe_ratio(excess_daily_strategy_return)\n",
    "print('Sharpe - ', sharpe)"
   ]
  },
  {
   "cell_type": "code",
   "execution_count": null,
   "metadata": {},
   "outputs": [],
   "source": []
  }
 ],
 "metadata": {
  "interpreter": {
   "hash": "e774977668b7c0ae8309835a5187aa7fbf7669e7d0bb59755bc63e573643edcd"
  },
  "kernelspec": {
   "display_name": "Python 3.7.9 64-bit",
   "language": "python",
   "name": "python3"
  },
  "language_info": {
   "codemirror_mode": {
    "name": "ipython",
    "version": 3
   },
   "file_extension": ".py",
   "mimetype": "text/x-python",
   "name": "python",
   "nbconvert_exporter": "python",
   "pygments_lexer": "ipython3",
   "version": "3.7.9"
  },
  "orig_nbformat": 4
 },
 "nbformat": 4,
 "nbformat_minor": 2
}
